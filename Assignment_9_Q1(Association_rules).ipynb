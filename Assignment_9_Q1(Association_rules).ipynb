{
  "nbformat": 4,
  "nbformat_minor": 0,
  "metadata": {
    "colab": {
      "name": "Assignment_9_Q1(Association rules).ipynb",
      "provenance": []
    },
    "kernelspec": {
      "name": "python3",
      "display_name": "Python 3"
    },
    "language_info": {
      "name": "python"
    }
  },
  "cells": [
    {
      "cell_type": "code",
      "execution_count": null,
      "metadata": {
        "id": "vBV7BJs14ID2"
      },
      "outputs": [],
      "source": [
        "import pandas as pd\n",
        "import numpy as np\n",
        "import matplotlib.pyplot as plt\n",
        "from mlxtend.frequent_patterns import apriori,association_rules\n",
        "from mlxtend.preprocessing import TransactionEncoder"
      ]
    },
    {
      "cell_type": "code",
      "source": [
        "book=pd.read_csv('book.csv')\n",
        "book"
      ],
      "metadata": {
        "id": "lHCNygSe4YDH"
      },
      "execution_count": null,
      "outputs": []
    },
    {
      "cell_type": "markdown",
      "source": [
        "**Apriori Algorithm**"
      ],
      "metadata": {
        "id": "UszEFv9M4gxx"
      }
    },
    {
      "cell_type": "markdown",
      "source": [
        "**1. Association rules with 10% Support and 70% confidence**"
      ],
      "metadata": {
        "id": "6V3qbILW4naC"
      }
    },
    {
      "cell_type": "code",
      "source": [
        "frequent_itemsets=apriori(book,min_support=0.1,use_colnames=True)\n",
        "frequent_itemsets"
      ],
      "metadata": {
        "id": "ihE9G26g4dWD"
      },
      "execution_count": null,
      "outputs": []
    },
    {
      "cell_type": "code",
      "source": [
        "rules=association_rules(frequent_itemsets,metric='lift',min_threshold=0.7)\n",
        "rules"
      ],
      "metadata": {
        "id": "52nVjONS4q_P"
      },
      "execution_count": null,
      "outputs": []
    },
    {
      "cell_type": "code",
      "source": [
        "rules.sort_values('lift',ascending=False)"
      ],
      "metadata": {
        "id": "56yQku5F4wao"
      },
      "execution_count": null,
      "outputs": []
    },
    {
      "cell_type": "code",
      "source": [
        "rules[rules.lift>1]"
      ],
      "metadata": {
        "id": "2OxAEQd54zFz"
      },
      "execution_count": null,
      "outputs": []
    },
    {
      "cell_type": "code",
      "source": [
        "plt.scatter(rules['support'],rules['confidence'])\n",
        "plt.xlabel('support')\n",
        "plt.ylabel('confidence') \n",
        "plt.show()"
      ],
      "metadata": {
        "id": "ZsFHDaqi42Ag"
      },
      "execution_count": null,
      "outputs": []
    },
    {
      "cell_type": "markdown",
      "source": [
        "**2. Association rules with 20% Support and 60% confidence**"
      ],
      "metadata": {
        "id": "swHyNck04818"
      }
    },
    {
      "cell_type": "code",
      "source": [
        "frequent_itemsets2=apriori(book,min_support=0.20,use_colnames=True)\n",
        "frequent_itemsets2"
      ],
      "metadata": {
        "id": "alsZs5CZ44sh"
      },
      "execution_count": null,
      "outputs": []
    },
    {
      "cell_type": "code",
      "source": [
        "rules2=association_rules(frequent_itemsets2,metric='lift',min_threshold=0.6)\n",
        "rules2"
      ],
      "metadata": {
        "id": "MK6Lkz5D5DAA"
      },
      "execution_count": null,
      "outputs": []
    },
    {
      "cell_type": "code",
      "source": [
        "plt.scatter(rules2['support'],rules2['confidence'])\n",
        "plt.xlabel('support')\n",
        "plt.ylabel('confidence') \n",
        "plt.show()"
      ],
      "metadata": {
        "id": "5kXr6c_p5Fey"
      },
      "execution_count": null,
      "outputs": []
    },
    {
      "cell_type": "markdown",
      "source": [
        "**3. Association rules with 5% Support and 80% confidence**"
      ],
      "metadata": {
        "id": "bGeEtYuu5OGh"
      }
    },
    {
      "cell_type": "code",
      "source": [
        "frequent_itemsets3=apriori(book,min_support=0.05,use_colnames=True)\n",
        "frequent_itemsets3"
      ],
      "metadata": {
        "id": "IJiqLegq5J-j"
      },
      "execution_count": null,
      "outputs": []
    },
    {
      "cell_type": "code",
      "source": [
        "rules3=association_rules(frequent_itemsets3,metric='lift',min_threshold=0.8)\n",
        "rules3"
      ],
      "metadata": {
        "id": "5U0gud1l5UUF"
      },
      "execution_count": null,
      "outputs": []
    },
    {
      "cell_type": "code",
      "source": [
        "rules3[rules3.lift>1]"
      ],
      "metadata": {
        "id": "HYaf39-T5XDi"
      },
      "execution_count": null,
      "outputs": []
    },
    {
      "cell_type": "code",
      "source": [
        "plt.scatter(rules3['support'],rules3['confidence'])\n",
        "plt.xlabel('support')\n",
        "plt.ylabel('confidence') \n",
        "plt.show()"
      ],
      "metadata": {
        "id": "-Bolzk1x5Z4c"
      },
      "execution_count": null,
      "outputs": []
    },
    {
      "cell_type": "code",
      "source": [
        ""
      ],
      "metadata": {
        "id": "ZNeRHuLY5kJb"
      },
      "execution_count": null,
      "outputs": []
    }
  ]
}