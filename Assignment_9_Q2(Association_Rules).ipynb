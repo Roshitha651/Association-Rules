{
  "nbformat": 4,
  "nbformat_minor": 0,
  "metadata": {
    "colab": {
      "name": "Assignment_9_Q2(Association_Rules).ipynb",
      "provenance": []
    },
    "kernelspec": {
      "name": "python3",
      "display_name": "Python 3"
    },
    "language_info": {
      "name": "python"
    }
  },
  "cells": [
    {
      "cell_type": "code",
      "execution_count": null,
      "metadata": {
        "id": "2Na8kenS6JOi"
      },
      "outputs": [],
      "source": [
        "import pandas as pd\n",
        "import numpy as np\n",
        "import matplotlib.pyplot as plt\n",
        "import seaborn as sns\n",
        "from mlxtend.frequent_patterns import apriori,association_rules\n",
        "from mlxtend.preprocessing import TransactionEncoder"
      ]
    },
    {
      "cell_type": "code",
      "source": [
        "movie=pd.read_csv('my_movies.csv')\n",
        "movie"
      ],
      "metadata": {
        "id": "ArWHbzp16UQ_"
      },
      "execution_count": null,
      "outputs": []
    },
    {
      "cell_type": "code",
      "source": [
        "movie.shape"
      ],
      "metadata": {
        "id": "R4K_LFwV6ZXi"
      },
      "execution_count": null,
      "outputs": []
    },
    {
      "cell_type": "code",
      "source": [
        "movie.info()"
      ],
      "metadata": {
        "id": "7DgUkW1D6cHr"
      },
      "execution_count": null,
      "outputs": []
    },
    {
      "cell_type": "code",
      "source": [
        "movie2=movie.iloc[:,5:]\n",
        "movie2"
      ],
      "metadata": {
        "id": "eABZ5ILI6eip"
      },
      "execution_count": null,
      "outputs": []
    },
    {
      "cell_type": "markdown",
      "source": [
        "**Apriori Algorithm**"
      ],
      "metadata": {
        "id": "XZOdOK4u6ksm"
      }
    },
    {
      "cell_type": "markdown",
      "source": [
        "**1. Association rules with 10% Support and 70% confidence**"
      ],
      "metadata": {
        "id": "uyLXTAOf6rjR"
      }
    },
    {
      "cell_type": "code",
      "source": [
        "frequent_itemsets=apriori(movie2,min_support=0.1,use_colnames=True)\n",
        "frequent_itemsets"
      ],
      "metadata": {
        "id": "DP-mYbPv6hVp"
      },
      "execution_count": null,
      "outputs": []
    },
    {
      "cell_type": "code",
      "source": [
        "rules=association_rules(frequent_itemsets,metric='lift',min_threshold=0.7)\n",
        "rules"
      ],
      "metadata": {
        "id": "f-cD74oL62FJ"
      },
      "execution_count": null,
      "outputs": []
    },
    {
      "cell_type": "code",
      "source": [
        "rules[rules.lift>1]"
      ],
      "metadata": {
        "id": "cg7BNiho65RE"
      },
      "execution_count": null,
      "outputs": []
    },
    {
      "cell_type": "code",
      "source": [
        "plt.scatter(rules['support'],rules['confidence'])\n",
        "plt.xlabel('support')\n",
        "plt.ylabel('confidence')\n",
        "plt.show()"
      ],
      "metadata": {
        "id": "FtYpC3Wp670N"
      },
      "execution_count": null,
      "outputs": []
    },
    {
      "cell_type": "markdown",
      "source": [
        "**2. Association rules with 5% Support and 90% confidence**"
      ],
      "metadata": {
        "id": "BF76VzLh7C61"
      }
    },
    {
      "cell_type": "code",
      "source": [
        "frequent_itemsets2=apriori(movie2,min_support=0.05,use_colnames=True)\n",
        "frequent_itemsets2"
      ],
      "metadata": {
        "id": "PqDPWV-n6-Y9"
      },
      "execution_count": null,
      "outputs": []
    },
    {
      "cell_type": "code",
      "source": [
        "rules2=association_rules(frequent_itemsets2,metric='lift',min_threshold=0.9)\n",
        "rules2"
      ],
      "metadata": {
        "id": "QMoFQQOY7KP7"
      },
      "execution_count": null,
      "outputs": []
    },
    {
      "cell_type": "code",
      "source": [
        "rules2[rules2.lift>1]"
      ],
      "metadata": {
        "id": "Ltd9qrsC7Nyn"
      },
      "execution_count": null,
      "outputs": []
    },
    {
      "cell_type": "code",
      "source": [
        "plt.scatter(rules2['support'],rules2['confidence'])\n",
        "plt.xlabel('support')\n",
        "plt.ylabel('confidence')\n",
        "plt.show()"
      ],
      "metadata": {
        "id": "D4S3gfQp7SVY"
      },
      "execution_count": null,
      "outputs": []
    },
    {
      "cell_type": "code",
      "source": [
        ""
      ],
      "metadata": {
        "id": "Y3CpomKJ7VmU"
      },
      "execution_count": null,
      "outputs": []
    }
  ]
}